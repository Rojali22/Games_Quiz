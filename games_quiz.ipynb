{
 "cells": [
  {
   "cell_type": "markdown",
   "metadata": {},
   "source": [
    "Connected to Python 3.13.0"
   ]
  },
  {
   "cell_type": "code",
   "execution_count": null,
   "id": "696bcd2f",
   "metadata": {},
   "outputs": [
    {
     "data": {
      "application/vnd.jupyter.widget-view+json": {
       "model_id": "9aefdf79b7674dca80bcb4e5a9977c55",
       "version_major": 2,
       "version_minor": 0
      },
      "text/plain": [
       "HTML(value='<h1>🎮 Mini Game: Tebak Bahasa Pemrograman</h1>')"
      ]
     },
     "metadata": {},
     "output_type": "display_data"
    },
    {
     "data": {
      "application/vnd.jupyter.widget-view+json": {
       "model_id": "d182da5972214996b041aa5017c7b5c0",
       "version_major": 2,
       "version_minor": 0
      },
      "text/plain": [
       "Button(button_style='success', description='Mulai Quiz', style=ButtonStyle())"
      ]
     },
     "metadata": {},
     "output_type": "display_data"
    },
    {
     "data": {
      "application/vnd.jupyter.widget-view+json": {
       "model_id": "3597b2c3fd32409180efd2504ce0ed95",
       "version_major": 2,
       "version_minor": 0
      },
      "text/plain": [
       "Output()"
      ]
     },
     "metadata": {},
     "output_type": "display_data"
    }
   ],
   "source": [
    "import ipywidgets as widgets\n",
    "from IPython.display import display, clear_output\n",
    "\n",
    "# Pertanyaan & Jawaban\n",
    "questions = [\n",
    "    {\n",
    "        \"question\": \"Bahasa pemrograman apa yang identik dengan logo ular?\",\n",
    "        \"options\": [\"Java\", \"Python\", \"Ruby\", \"C++\"],\n",
    "        \"answer\": \"Python\"\n",
    "    },\n",
    "    {\n",
    "        \"question\": \"Bahasa pemrograman apa yang paling sering dipakai untuk pengembangan Android native?\",\n",
    "        \"options\": [\"Swift\", \"Kotlin\", \"JavaScript\", \"Go\"],\n",
    "        \"answer\": \"Kotlin\"\n",
    "    },\n",
    "    {\n",
    "        \"question\": \"Bahasa pemrograman yang dikembangkan oleh Apple untuk iOS adalah?\",\n",
    "        \"options\": [\"Objective-C\", \"Java\", \"Swift\", \"C#\"],\n",
    "        \"answer\": \"Swift\"\n",
    "    }\n",
    "]\n",
    "\n",
    "# Variabel awal\n",
    "score = 0\n",
    "current_question = 0\n",
    "\n",
    "# Output display\n",
    "output = widgets.Output()\n",
    "\n",
    "def show_question(index):\n",
    "    output.clear_output()\n",
    "    if index < len(questions):\n",
    "        q = questions[index]\n",
    "        question_label = widgets.HTML(f\"<h3>{q['question']}</h3>\")\n",
    "        buttons = []\n",
    "        for opt in q['options']:\n",
    "            btn = widgets.Button(description=opt)\n",
    "            btn.style.button_color = \"#cce5ff\"\n",
    "            btn.on_click(lambda b, opt=opt: check_answer(opt))\n",
    "            buttons.append(btn)\n",
    "        with output:\n",
    "            display(question_label, widgets.VBox(buttons))\n",
    "    else:\n",
    "        show_score()\n",
    "\n",
    "def check_answer(selected_option):\n",
    "    global score, current_question\n",
    "    correct_answer = questions[current_question][\"answer\"]\n",
    "    if selected_option == correct_answer:\n",
    "        score += 1\n",
    "    current_question += 1\n",
    "    show_question(current_question)\n",
    "\n",
    "def show_score():\n",
    "    output.clear_output()\n",
    "    with output:\n",
    "        display(widgets.HTML(f\"<h2>Skor akhir kamu: {score} dari {len(questions)}</h2>\"))\n",
    "        if score == len(questions):\n",
    "            display(widgets.HTML(\"<p><b>Luar biasa! Kamu jawab semua dengan benar! ⚡</b></p>\"))\n",
    "        elif score >= 2:\n",
    "            display(widgets.HTML(\"<p>Bagus! Kamu cukup paham dunia pemrograman.</p>\"))\n",
    "        else:\n",
    "            display(widgets.HTML(\"<p>Yuk belajar lagi biar makin jago 💪</p>\"))\n",
    "\n",
    "# Tombol mulai\n",
    "start_button = widgets.Button(description=\"Mulai Quiz\", button_style='success')\n",
    "\n",
    "def start_game(b):\n",
    "    global score, current_question\n",
    "    score = 0\n",
    "    current_question = 0\n",
    "    show_question(current_question)\n",
    "\n",
    "start_button.on_click(start_game)\n",
    "\n",
    "# Tampilan awal\n",
    "display(widgets.HTML(\"<h1>🎮 Mini Game: Tebak Bahasa Pemrograman</h1>\"))\n",
    "display(start_button)\n",
    "display(output)\n"
   ]
  },
  {
   "cell_type": "markdown",
   "metadata": {},
   "source": [
    "Restarted Python 3.13.0"
   ]
  }
 ],
 "metadata": {
  "kernelspec": {
   "display_name": "Python 3",
   "language": "python",
   "name": "python3"
  },
  "language_info": {
   "codemirror_mode": {
    "name": "ipython",
    "version": 3
   },
   "file_extension": ".py",
   "mimetype": "text/x-python",
   "name": "python",
   "nbconvert_exporter": "python",
   "pygments_lexer": "ipython3",
   "version": "3.13.0"
  }
 },
 "nbformat": 4,
 "nbformat_minor": 5
}
